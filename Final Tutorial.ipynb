{
 "cells": [
  {
   "cell_type": "markdown",
   "metadata": {},
   "source": [
    "Matthew Dolinka"
   ]
  },
  {
   "cell_type": "markdown",
   "metadata": {},
   "source": [
    "Document Classification of Wikipedia Articles"
   ]
  },
  {
   "cell_type": "markdown",
   "metadata": {},
   "source": [
    "Introduction:"
   ]
  },
  {
   "cell_type": "markdown",
   "metadata": {},
   "source": [
    "Hello, today in this article we are going to discuss various methods to classify wikipedia articles using\n",
    "both supervised and unsupervised learning models.\n",
    "\n",
    "We are going to be using a hierarchical Clustering approach to classification as well\n",
    "as a linear classifier approach using weights determined from tf-idf values from gathered\n",
    "training data (wikipedia articles) "
   ]
  },
  {
   "cell_type": "markdown",
   "metadata": {},
   "source": [
    "Required imports:"
   ]
  },
  {
   "cell_type": "code",
   "execution_count": 394,
   "metadata": {},
   "outputs": [],
   "source": [
    "import pandas as pd\n",
    "import numpy as np\n",
    "import copy\n",
    "import re\n",
    "import json\n",
    "import requests\n",
    "import random\n",
    "from sklearn.feature_extraction.text import CountVectorizer\n",
    "from sklearn.metrics.pairwise import cosine_similarity\n",
    "from sklearn.feature_extraction.text import TfidfVectorizer\n",
    "import matplotlib.pyplot as plt"
   ]
  },
  {
   "cell_type": "markdown",
   "metadata": {},
   "source": [
    "Scraping the Data:"
   ]
  },
  {
   "cell_type": "markdown",
   "metadata": {},
   "source": [
    "Scraping articles and titles from wikipeida turns out to not be as difficult as one might expect.\n",
    "Wikipedia has a user interface called the MediaWiki API. To make use of this API, use the\n",
    "webaddress \"https://en.wikipedia.org/w/api.php\" and send the features that you want\n",
    "using the params feature of python's requests module"
   ]
  },
  {
   "cell_type": "markdown",
   "metadata": {},
   "source": [
    "This is a function that is designed to take in a category from wikipedia and recursively unpack it, returning a list of the category's pages and the pages of its subcategories. However this unpacking only occurs up to a certain level to avoid\n",
    "performance problems. Unless you want a crazy amount of results or are okay with waiting for a while, I recomend that you leave level at 1 when you\n",
    "call the funtion."
   ]
  },
  {
   "cell_type": "code",
   "execution_count": 2,
   "metadata": {},
   "outputs": [],
   "source": [
    "#category is for example of the form \"Category:Physics\"\n",
    "\n",
    "#cmnamespace to 0 is to only get proper wikipedia articles,\n",
    "#and 14 is to get categories\n",
    "def unpack_category(category, level):\n",
    "    raw = requests.get(\n",
    "    \"https://en.wikipedia.org/w/api.php\",\n",
    "    params={\n",
    "        'action': 'query',\n",
    "        'format': 'json',\n",
    "        'list': 'categorymembers',\n",
    "        'cmtitle': category,\n",
    "        'cmlimit': 500,\n",
    "        'cmnamespace': '0|14'\n",
    "        }\n",
    "    ).json()\n",
    "        \n",
    "    #two buckets, titles for page titles and categories\n",
    "    #for categories format is \"Category:categoryname\"\n",
    "    titles = []\n",
    "    categories = []\n",
    "    \n",
    "    for cat in raw['query']['categorymembers']:\n",
    "        title = cat['title']\n",
    "        #see if the title is actually a category using regular expressions\n",
    "        if re.search('Category:.*', title):\n",
    "            categories.append(title)\n",
    "        else:\n",
    "            titles.append(title)\n",
    "        \n",
    "    #now recurse over each of the categories and merge with the titles list\n",
    "    if level > 0:\n",
    "        for cat in categories:\n",
    "            titles = titles + unpack_category(cat, level - 1)\n",
    "    \n",
    "    return titles"
   ]
  },
  {
   "cell_type": "markdown",
   "metadata": {},
   "source": [
    "Before we can do any thing with article text, first we have to actually get the titles of the articles we want.\n",
    "This function returns a list of randomly samples wikipedia titles. Note that we can only request a maximum of 500\n",
    "titles at a time per wikipedia's limitations. In order to gather any more than 500 articles, you have\n",
    "to make multiple requests and merge them."
   ]
  },
  {
   "cell_type": "code",
   "execution_count": 3,
   "metadata": {},
   "outputs": [],
   "source": [
    "def generate_random_wiki_titles(limit):\n",
    "    result = []\n",
    "    \n",
    "    #rnnamespace 0 is used to only get proper wikipedia articles\n",
    "    #ie, no category or user pages\n",
    "    raw = requests.get(\n",
    "    \"https://en.wikipedia.org/w/api.php\",\n",
    "    params={\n",
    "        'action': 'query',\n",
    "        'format': 'json',\n",
    "        'list': 'random',\n",
    "        'rnlimit': limit,\n",
    "        'rnnamespace': 0\n",
    "\n",
    "        }\n",
    "    ).json()\n",
    "    \n",
    "    for json_dict in raw['query']['random']:\n",
    "        result.append(json_dict['title'])\n",
    "    \n",
    "    return result"
   ]
  },
  {
   "cell_type": "code",
   "execution_count": 4,
   "metadata": {},
   "outputs": [],
   "source": [
    "random_titles = list(set(generate_random_wiki_titles(500) + generate_random_wiki_titles(500)))"
   ]
  },
  {
   "cell_type": "code",
   "execution_count": 5,
   "metadata": {},
   "outputs": [],
   "source": [
    "cs_titles = unpack_category('Category:Computer_science', 1)"
   ]
  },
  {
   "cell_type": "code",
   "execution_count": 6,
   "metadata": {},
   "outputs": [],
   "source": [
    "baseball_titles = unpack_category('Category:Baseball', 1)"
   ]
  },
  {
   "cell_type": "code",
   "execution_count": 7,
   "metadata": {},
   "outputs": [],
   "source": [
    "game_titles = unpack_category('Category:Video_games', 1)"
   ]
  },
  {
   "cell_type": "code",
   "execution_count": 545,
   "metadata": {},
   "outputs": [
    {
     "data": {
      "text/plain": [
       "['Outline of video games',\n",
       " 'List of most-played mobile games by player count',\n",
       " 'Personalized video game',\n",
       " 'Video game addiction in China',\n",
       " 'Video game',\n",
       " 'Outline of video games',\n",
       " 'List of game companies in the United Kingdom',\n",
       " 'List of video game developers',\n",
       " 'List of independent video game developers',\n",
       " 'List of video game publishers',\n",
       " 'List of celebrities portrayed in video games',\n",
       " 'List of video game designers',\n",
       " 'List of video game musicians',\n",
       " 'List of video game industry people',\n",
       " 'List of Angry Video Game Nerd episodes',\n",
       " 'List of video game collector and limited editions',\n",
       " 'List of crossovers in video games',\n",
       " 'List of video game crowdfunding projects',\n",
       " 'List of Cyberathlete Professional League champions',\n",
       " 'Comparison of dance pad video games',\n",
       " 'Early Edu-Ware products',\n",
       " 'List of esports games',\n",
       " 'List of games at Funspot',\n",
       " 'Glossary of video game terms',\n",
       " 'List of level editors']"
      ]
     },
     "execution_count": 545,
     "metadata": {},
     "output_type": "execute_result"
    }
   ],
   "source": [
    "game_titles[:25]"
   ]
  },
  {
   "cell_type": "markdown",
   "metadata": {},
   "source": [
    "Now that we have our article titles, we can begin scraping the articles proper. Note that now\n",
    "we have to make use of the \"extracts\" feature of the Media Wiki API."
   ]
  },
  {
   "cell_type": "markdown",
   "metadata": {},
   "source": [
    "This code is intended to take the html text from a wikipedia page, only taking the\n",
    "bare text of the article without images or tags"
   ]
  },
  {
   "cell_type": "code",
   "execution_count": 462,
   "metadata": {},
   "outputs": [],
   "source": [
    "def scrape_wikipage(title):\n",
    "    page_data = requests.get(\n",
    "        \"https://en.wikipedia.org/w/api.php\",\n",
    "        params={\n",
    "        'action': 'query',\n",
    "        'format': 'json',\n",
    "        'utf8': True,\n",
    "        'titles': title,\n",
    "        'prop': 'extracts',\n",
    "        'explaintext': True,\n",
    "        }).json()\n",
    "    \n",
    "    result = next(iter(page_data['query']['pages'].values())) \n",
    "    return result['extract']\n",
    "    \n",
    "    "
   ]
  },
  {
   "cell_type": "markdown",
   "metadata": {},
   "source": [
    "Here is an example of scraping the article text from one of our article categories"
   ]
  },
  {
   "cell_type": "code",
   "execution_count": 544,
   "metadata": {},
   "outputs": [
    {
     "data": {
      "text/plain": [
       "'Baseball5 is variation of the game of baseball. There are five players on each team and each team has five innings. The World Baseball Softball Confederation proposed the game in 2018.\\n\\n\\n== Rules and gameplay ==\\n\\n\\n=== The field ===\\n\\nThe infield has a square shape, with a base in every corner.The distance in between bases is 13\\nmeters or 42,5 feet. The fair territory has a square shape of 18 meters or 59 feet per side, in which one of the corners \\ncoincides with the home plate. The batter’s box has a square shape of 3 meters (10 ft.) per side. It is placed outside of the fair \\nterritory and is '"
      ]
     },
     "execution_count": 544,
     "metadata": {},
     "output_type": "execute_result"
    }
   ],
   "source": [
    "scrape_wikipage(baseball_titles[3])[:600]"
   ]
  },
  {
   "cell_type": "markdown",
   "metadata": {},
   "source": [
    "What we want to do now that we can scrape any wiki page's\n",
    "text with just a title is to take random samples of titles\n",
    "from our category lists above and collect the text in arrays for each category"
   ]
  },
  {
   "cell_type": "markdown",
   "metadata": {},
   "source": [
    "This funtion here takes in a title list and returns an array of size limit of strings, where each string is randomly sampled \n",
    "from the given title list.\n",
    "\n",
    "Note that we are sampling without replacement. The given titles list is deep copied so that the elements in the given\n",
    "titles list are not affected"
   ]
  },
  {
   "cell_type": "code",
   "execution_count": 11,
   "metadata": {},
   "outputs": [],
   "source": [
    "def sample_articles(titles, limit):\n",
    "    titles = copy.deepcopy(titles)\n",
    "    result = {}\n",
    "    \n",
    "    #ensure that we will not sample more than the number of titles\n",
    "    if limit > len(titles):\n",
    "        limit = len(titles)\n",
    "    \n",
    "    #takes a random article limit times (without replacement)\n",
    "    for _ in range(limit):\n",
    "        random_index = random.randint(0, len(titles) - 1)\n",
    "        sampled_title = titles[random_index]\n",
    "        \n",
    "        #now drop the sampled title from titles\n",
    "        del(titles[random_index])\n",
    "        \n",
    "        result[sampled_title] = scrape_wikipage(sampled_title)\n",
    "        \n",
    "    return result"
   ]
  },
  {
   "cell_type": "markdown",
   "metadata": {},
   "source": [
    "Note that it can take some time to scrape the wikipedia articles. I strongly suggest that you\n",
    "store the titles and articles locally, so that you do not have to keep requesting them from\n",
    "Wikipedia; it can be quite time consuming and will not always work depending on \n",
    "the internet connection that you are using."
   ]
  },
  {
   "cell_type": "code",
   "execution_count": 12,
   "metadata": {},
   "outputs": [],
   "source": [
    "random_articles = sample_articles(random_titles,800)"
   ]
  },
  {
   "cell_type": "code",
   "execution_count": 13,
   "metadata": {},
   "outputs": [],
   "source": [
    "game_articles = sample_articles(game_titles,400)"
   ]
  },
  {
   "cell_type": "code",
   "execution_count": 15,
   "metadata": {
    "scrolled": false
   },
   "outputs": [],
   "source": [
    "cs_articles = sample_articles(cs_titles,400)"
   ]
  },
  {
   "cell_type": "code",
   "execution_count": 16,
   "metadata": {},
   "outputs": [],
   "source": [
    "baseball_articles = sample_articles(baseball_titles,400)"
   ]
  },
  {
   "cell_type": "markdown",
   "metadata": {},
   "source": [
    "Find bag of words and cosine similarity between a set of documents documents:"
   ]
  },
  {
   "cell_type": "markdown",
   "metadata": {},
   "source": [
    "Now, in order to make use of the article text for linear classification, we will\n",
    "have to convert the document of strings into a Pandas DataFrame where the rows are the\n",
    "titles of the documents and the columns correspond to every possible word that can\n",
    "be found in all the documents in the document dictonary. The values in the table are the\n",
    "number of occurances of each word for each document. This is important because later we\n",
    "will have to use the rows of this table as feature vectors for our calculation of\n",
    "cosine similarity and linear classification."
   ]
  },
  {
   "cell_type": "code",
   "execution_count": 17,
   "metadata": {},
   "outputs": [],
   "source": [
    "def bag_of_words(document_dict):\n",
    "    count_vectorizer = CountVectorizer(stop_words='english')\n",
    "    count_vectorizer = CountVectorizer()\n",
    "    matrix = count_vectorizer.fit_transform(list(document_dict.values()))\n",
    "    \n",
    "    doc_term_matrix = matrix.todense()\n",
    "    df = pd.DataFrame(doc_term_matrix, \n",
    "                  columns=count_vectorizer.get_feature_names(), \n",
    "                  index=list(document_dict.keys()))\n",
    "    \n",
    "    return df"
   ]
  },
  {
   "cell_type": "code",
   "execution_count": 18,
   "metadata": {},
   "outputs": [],
   "source": [
    "df = bag_of_words(game_articles)"
   ]
  },
  {
   "cell_type": "code",
   "execution_count": 546,
   "metadata": {},
   "outputs": [
    {
     "data": {
      "text/html": [
       "<div>\n",
       "<style scoped>\n",
       "    .dataframe tbody tr th:only-of-type {\n",
       "        vertical-align: middle;\n",
       "    }\n",
       "\n",
       "    .dataframe tbody tr th {\n",
       "        vertical-align: top;\n",
       "    }\n",
       "\n",
       "    .dataframe thead th {\n",
       "        text-align: right;\n",
       "    }\n",
       "</style>\n",
       "<table border=\"1\" class=\"dataframe\">\n",
       "  <thead>\n",
       "    <tr style=\"text-align: right;\">\n",
       "      <th></th>\n",
       "      <th>00</th>\n",
       "      <th>016</th>\n",
       "      <th>advises</th>\n",
       "      <th>atomic</th>\n",
       "      <th>choiceno</th>\n",
       "      <th>corporation</th>\n",
       "      <th>corporations</th>\n",
       "      <th>corporeal</th>\n",
       "      <th>corps</th>\n",
       "      <th>corpse</th>\n",
       "    </tr>\n",
       "  </thead>\n",
       "  <tbody>\n",
       "    <tr>\n",
       "      <th>Secret Paths (video game)</th>\n",
       "      <td>0</td>\n",
       "      <td>0</td>\n",
       "      <td>0</td>\n",
       "      <td>0</td>\n",
       "      <td>0</td>\n",
       "      <td>0</td>\n",
       "      <td>0</td>\n",
       "      <td>0</td>\n",
       "      <td>0</td>\n",
       "      <td>0</td>\n",
       "    </tr>\n",
       "    <tr>\n",
       "      <th>Resident Evil 7: Biohazard</th>\n",
       "      <td>0</td>\n",
       "      <td>0</td>\n",
       "      <td>0</td>\n",
       "      <td>0</td>\n",
       "      <td>0</td>\n",
       "      <td>4</td>\n",
       "      <td>0</td>\n",
       "      <td>0</td>\n",
       "      <td>0</td>\n",
       "      <td>0</td>\n",
       "    </tr>\n",
       "    <tr>\n",
       "      <th>Project M (video game)</th>\n",
       "      <td>0</td>\n",
       "      <td>0</td>\n",
       "      <td>0</td>\n",
       "      <td>0</td>\n",
       "      <td>0</td>\n",
       "      <td>0</td>\n",
       "      <td>0</td>\n",
       "      <td>0</td>\n",
       "      <td>0</td>\n",
       "      <td>0</td>\n",
       "    </tr>\n",
       "    <tr>\n",
       "      <th>Torn (video game)</th>\n",
       "      <td>0</td>\n",
       "      <td>0</td>\n",
       "      <td>0</td>\n",
       "      <td>0</td>\n",
       "      <td>0</td>\n",
       "      <td>0</td>\n",
       "      <td>0</td>\n",
       "      <td>0</td>\n",
       "      <td>0</td>\n",
       "      <td>0</td>\n",
       "    </tr>\n",
       "    <tr>\n",
       "      <th>List of most expensive video game acquisitions</th>\n",
       "      <td>0</td>\n",
       "      <td>0</td>\n",
       "      <td>0</td>\n",
       "      <td>0</td>\n",
       "      <td>0</td>\n",
       "      <td>0</td>\n",
       "      <td>0</td>\n",
       "      <td>0</td>\n",
       "      <td>0</td>\n",
       "      <td>0</td>\n",
       "    </tr>\n",
       "    <tr>\n",
       "      <th>List of esports games</th>\n",
       "      <td>0</td>\n",
       "      <td>0</td>\n",
       "      <td>0</td>\n",
       "      <td>0</td>\n",
       "      <td>0</td>\n",
       "      <td>0</td>\n",
       "      <td>0</td>\n",
       "      <td>0</td>\n",
       "      <td>0</td>\n",
       "      <td>0</td>\n",
       "    </tr>\n",
       "    <tr>\n",
       "      <th>AstroFire</th>\n",
       "      <td>0</td>\n",
       "      <td>0</td>\n",
       "      <td>0</td>\n",
       "      <td>0</td>\n",
       "      <td>0</td>\n",
       "      <td>0</td>\n",
       "      <td>0</td>\n",
       "      <td>0</td>\n",
       "      <td>0</td>\n",
       "      <td>0</td>\n",
       "    </tr>\n",
       "    <tr>\n",
       "      <th>Warm Up!</th>\n",
       "      <td>0</td>\n",
       "      <td>0</td>\n",
       "      <td>0</td>\n",
       "      <td>0</td>\n",
       "      <td>0</td>\n",
       "      <td>0</td>\n",
       "      <td>0</td>\n",
       "      <td>0</td>\n",
       "      <td>0</td>\n",
       "      <td>0</td>\n",
       "    </tr>\n",
       "    <tr>\n",
       "      <th>Final Fantasy VIII</th>\n",
       "      <td>0</td>\n",
       "      <td>0</td>\n",
       "      <td>0</td>\n",
       "      <td>0</td>\n",
       "      <td>0</td>\n",
       "      <td>0</td>\n",
       "      <td>0</td>\n",
       "      <td>0</td>\n",
       "      <td>0</td>\n",
       "      <td>0</td>\n",
       "    </tr>\n",
       "    <tr>\n",
       "      <th>Cardinal of the Kremlin (video game)</th>\n",
       "      <td>0</td>\n",
       "      <td>0</td>\n",
       "      <td>0</td>\n",
       "      <td>0</td>\n",
       "      <td>0</td>\n",
       "      <td>0</td>\n",
       "      <td>0</td>\n",
       "      <td>0</td>\n",
       "      <td>0</td>\n",
       "      <td>0</td>\n",
       "    </tr>\n",
       "    <tr>\n",
       "      <th>Stellaris (video game)</th>\n",
       "      <td>0</td>\n",
       "      <td>0</td>\n",
       "      <td>0</td>\n",
       "      <td>0</td>\n",
       "      <td>0</td>\n",
       "      <td>0</td>\n",
       "      <td>0</td>\n",
       "      <td>0</td>\n",
       "      <td>0</td>\n",
       "      <td>0</td>\n",
       "    </tr>\n",
       "    <tr>\n",
       "      <th>Diablo III: Rise of the Necromancer</th>\n",
       "      <td>0</td>\n",
       "      <td>0</td>\n",
       "      <td>0</td>\n",
       "      <td>0</td>\n",
       "      <td>0</td>\n",
       "      <td>0</td>\n",
       "      <td>0</td>\n",
       "      <td>0</td>\n",
       "      <td>0</td>\n",
       "      <td>0</td>\n",
       "    </tr>\n",
       "  </tbody>\n",
       "</table>\n",
       "</div>"
      ],
      "text/plain": [
       "                                                00  016  advises  atomic  \\\n",
       "Secret Paths (video game)                        0    0        0       0   \n",
       "Resident Evil 7: Biohazard                       0    0        0       0   \n",
       "Project M (video game)                           0    0        0       0   \n",
       "Torn (video game)                                0    0        0       0   \n",
       "List of most expensive video game acquisitions   0    0        0       0   \n",
       "List of esports games                            0    0        0       0   \n",
       "AstroFire                                        0    0        0       0   \n",
       "Warm Up!                                         0    0        0       0   \n",
       "Final Fantasy VIII                               0    0        0       0   \n",
       "Cardinal of the Kremlin (video game)             0    0        0       0   \n",
       "Stellaris (video game)                           0    0        0       0   \n",
       "Diablo III: Rise of the Necromancer              0    0        0       0   \n",
       "\n",
       "                                                choiceno  corporation  \\\n",
       "Secret Paths (video game)                              0            0   \n",
       "Resident Evil 7: Biohazard                             0            4   \n",
       "Project M (video game)                                 0            0   \n",
       "Torn (video game)                                      0            0   \n",
       "List of most expensive video game acquisitions         0            0   \n",
       "List of esports games                                  0            0   \n",
       "AstroFire                                              0            0   \n",
       "Warm Up!                                               0            0   \n",
       "Final Fantasy VIII                                     0            0   \n",
       "Cardinal of the Kremlin (video game)                   0            0   \n",
       "Stellaris (video game)                                 0            0   \n",
       "Diablo III: Rise of the Necromancer                    0            0   \n",
       "\n",
       "                                                corporations  corporeal  \\\n",
       "Secret Paths (video game)                                  0          0   \n",
       "Resident Evil 7: Biohazard                                 0          0   \n",
       "Project M (video game)                                     0          0   \n",
       "Torn (video game)                                          0          0   \n",
       "List of most expensive video game acquisitions             0          0   \n",
       "List of esports games                                      0          0   \n",
       "AstroFire                                                  0          0   \n",
       "Warm Up!                                                   0          0   \n",
       "Final Fantasy VIII                                         0          0   \n",
       "Cardinal of the Kremlin (video game)                       0          0   \n",
       "Stellaris (video game)                                     0          0   \n",
       "Diablo III: Rise of the Necromancer                        0          0   \n",
       "\n",
       "                                                corps  corpse  \n",
       "Secret Paths (video game)                           0       0  \n",
       "Resident Evil 7: Biohazard                          0       0  \n",
       "Project M (video game)                              0       0  \n",
       "Torn (video game)                                   0       0  \n",
       "List of most expensive video game acquisitions      0       0  \n",
       "List of esports games                               0       0  \n",
       "AstroFire                                           0       0  \n",
       "Warm Up!                                            0       0  \n",
       "Final Fantasy VIII                                  0       0  \n",
       "Cardinal of the Kremlin (video game)                0       0  \n",
       "Stellaris (video game)                              0       0  \n",
       "Diablo III: Rise of the Necromancer                 0       0  "
      ]
     },
     "execution_count": 546,
     "metadata": {},
     "output_type": "execute_result"
    }
   ],
   "source": [
    "df.iloc[:12, [0,10,1000,2000,5000,5001,5002,5004]]"
   ]
  },
  {
   "cell_type": "markdown",
   "metadata": {},
   "source": [
    "Next we need a metric to determine how similar any two documents are. The metric we will be\n",
    "using for clustering is called cosine similarity. Cosine similarity is calculated using the feature\n",
    "vectors derived earlier and produces a result between 0 (dissimilar) and 1 (similar) for every document"
   ]
  },
  {
   "cell_type": "code",
   "execution_count": 463,
   "metadata": {},
   "outputs": [],
   "source": [
    "def df_cosine_similarity(word_bag):\n",
    "    cosine_matrix = cosine_similarity(word_bag, dense_output=True)\n",
    "    \n",
    "    df = pd.DataFrame(cosine_matrix, \n",
    "                  columns=word_bag.index.tolist(), \n",
    "                  index=word_bag.index.tolist())\n",
    "    \n",
    "    return df"
   ]
  },
  {
   "cell_type": "code",
   "execution_count": 21,
   "metadata": {},
   "outputs": [],
   "source": [
    "cs = df_cosine_similarity(df)"
   ]
  },
  {
   "cell_type": "code",
   "execution_count": 547,
   "metadata": {},
   "outputs": [
    {
     "data": {
      "text/html": [
       "<div>\n",
       "<style scoped>\n",
       "    .dataframe tbody tr th:only-of-type {\n",
       "        vertical-align: middle;\n",
       "    }\n",
       "\n",
       "    .dataframe tbody tr th {\n",
       "        vertical-align: top;\n",
       "    }\n",
       "\n",
       "    .dataframe thead th {\n",
       "        text-align: right;\n",
       "    }\n",
       "</style>\n",
       "<table border=\"1\" class=\"dataframe\">\n",
       "  <thead>\n",
       "    <tr style=\"text-align: right;\">\n",
       "      <th></th>\n",
       "      <th>Secret Paths (video game)</th>\n",
       "      <th>Resident Evil 7: Biohazard</th>\n",
       "      <th>Project M (video game)</th>\n",
       "      <th>Torn (video game)</th>\n",
       "    </tr>\n",
       "  </thead>\n",
       "  <tbody>\n",
       "    <tr>\n",
       "      <th>Secret Paths (video game)</th>\n",
       "      <td>1.000000</td>\n",
       "      <td>0.845076</td>\n",
       "      <td>0.808096</td>\n",
       "      <td>0.558492</td>\n",
       "    </tr>\n",
       "    <tr>\n",
       "      <th>Resident Evil 7: Biohazard</th>\n",
       "      <td>0.845076</td>\n",
       "      <td>1.000000</td>\n",
       "      <td>0.887837</td>\n",
       "      <td>0.595349</td>\n",
       "    </tr>\n",
       "    <tr>\n",
       "      <th>Project M (video game)</th>\n",
       "      <td>0.808096</td>\n",
       "      <td>0.887837</td>\n",
       "      <td>1.000000</td>\n",
       "      <td>0.516431</td>\n",
       "    </tr>\n",
       "    <tr>\n",
       "      <th>Torn (video game)</th>\n",
       "      <td>0.558492</td>\n",
       "      <td>0.595349</td>\n",
       "      <td>0.516431</td>\n",
       "      <td>1.000000</td>\n",
       "    </tr>\n",
       "  </tbody>\n",
       "</table>\n",
       "</div>"
      ],
      "text/plain": [
       "                            Secret Paths (video game)  \\\n",
       "Secret Paths (video game)                    1.000000   \n",
       "Resident Evil 7: Biohazard                   0.845076   \n",
       "Project M (video game)                       0.808096   \n",
       "Torn (video game)                            0.558492   \n",
       "\n",
       "                            Resident Evil 7: Biohazard  \\\n",
       "Secret Paths (video game)                     0.845076   \n",
       "Resident Evil 7: Biohazard                    1.000000   \n",
       "Project M (video game)                        0.887837   \n",
       "Torn (video game)                             0.595349   \n",
       "\n",
       "                            Project M (video game)  Torn (video game)  \n",
       "Secret Paths (video game)                 0.808096           0.558492  \n",
       "Resident Evil 7: Biohazard                0.887837           0.595349  \n",
       "Project M (video game)                    1.000000           0.516431  \n",
       "Torn (video game)                         0.516431           1.000000  "
      ]
     },
     "execution_count": 547,
     "metadata": {},
     "output_type": "execute_result"
    }
   ],
   "source": [
    "cs.iloc[:4, list(range(4))]"
   ]
  },
  {
   "cell_type": "markdown",
   "metadata": {},
   "source": [
    "Clustering (Hierarchical Clustering):"
   ]
  },
  {
   "cell_type": "markdown",
   "metadata": {},
   "source": [
    "This algorithm is an attempt to implement the idea of Hierarchical clustering.\n",
    "Essentially the idea is that it can take in a dictionary of titles mapped to articles and\n",
    "a second list of titles to start clustering around. The algorithm will start with these special\n",
    "titles and find the documents in the given dictionary that are closest (cosine similarity) the the given document.\n",
    "The closest document will be added to a cluster along with its closest neighbor and removed\n",
    "from the overall pool of documents. As the cluster grows, new documents are compared to each document inside the\n",
    "cluster and their cosine similarities are summed. The document that produces the overall highest cosine similarity\n",
    "is adopted into the cluster and removed from the document pool. This is done until there are\n",
    "no more documents to sample and the clusters are returned."
   ]
  },
  {
   "cell_type": "code",
   "execution_count": 23,
   "metadata": {},
   "outputs": [],
   "source": [
    "def clusterings(documents, starting_names):\n",
    "    #deep copy documents so removal doesnt change what the user passed in\n",
    "    documents = copy.deepcopy(documents)\n",
    "    #generate matrix of cosine similarities\n",
    "    cosine_matrix = df_cosine_similarity(bag_of_words(documents))\n",
    "    \n",
    "    clusters = []\n",
    "    \n",
    "    for name in starting_names:\n",
    "        clusters += [[name]]\n",
    "        #the onus is on the user to pass in document names\n",
    "        #that are actually contained within the documents variable\n",
    "        del documents[name]\n",
    "    \n",
    "    #sums up the cosine similarities of the newcomer to each\n",
    "    #of the documents in docs\n",
    "    def compare_cosine(newcomer, docs):\n",
    "        result = 0\n",
    "        for doc in docs:\n",
    "            result += cosine_matrix[newcomer][doc]\n",
    "        return result\n",
    "    \n",
    "    #the purpose of the i is to alternate between the different\n",
    "    #clusters when comparing cosine values\n",
    "    i = 0\n",
    "    while len(documents) > 0:\n",
    "        highest = 0\n",
    "        contender = None\n",
    "        for doc in documents:\n",
    "            comp = compare_cosine(doc, clusters[i%len(clusters)])\n",
    "            if comp >= highest:\n",
    "                highest = comp\n",
    "                contender = doc\n",
    "        \n",
    "        #add the nearest document to its appropriate cluster and\n",
    "        #remove it from the documents dictionary\n",
    "        clusters[i%len(clusters)].append(contender)\n",
    "        del documents[contender]\n",
    "        \n",
    "        i += 1\n",
    "        \n",
    "    return clusters"
   ]
  },
  {
   "cell_type": "markdown",
   "metadata": {},
   "source": [
    "Now let's test our clustering algorithm using the random article dataset that we gathered\n",
    "earlier. It is important and most interesting to test using randomly gathered data\n",
    "and not data gathered from categories because with clustering we will be able to\n",
    "more easily appreciate the similarities between the gathered documents in the clusters."
   ]
  },
  {
   "cell_type": "code",
   "execution_count": 24,
   "metadata": {},
   "outputs": [
    {
     "data": {
      "text/plain": [
       "800"
      ]
     },
     "execution_count": 24,
     "metadata": {},
     "output_type": "execute_result"
    }
   ],
   "source": [
    "#take a random sample\n",
    "sample_titles = random.sample(list(random_articles), 800)\n",
    "sample_dict = {}\n",
    "for title in sample_titles:\n",
    "    sample_dict[title] = random_articles[title]\n",
    "len(sample_dict)"
   ]
  },
  {
   "cell_type": "code",
   "execution_count": 548,
   "metadata": {},
   "outputs": [
    {
     "data": {
      "text/plain": [
       "[['Wordplay (musician)',\n",
       "  'Enric Sagnier',\n",
       "  'Millard Fillmore',\n",
       "  'Thol. Thirumavalavan',\n",
       "  'Stepan Khilkov',\n",
       "  'William Howell Forbes',\n",
       "  'Jacques-Antoine de Chambarlhac de Laubespin',\n",
       "  'Anton Vodnik',\n",
       "  'John Alexander Paul Macgregor',\n",
       "  'Erik Lund-Isaksen',\n",
       "  'Seán Conlan',\n",
       "  'Peace Breaks Out',\n",
       "  'Philip Mennell',\n",
       "  'Richard Joseph Fitzgerald',\n",
       "  'Sigmund Løvåsen',\n",
       "  'Edward Moreno',\n",
       "  'George Fenner (soldier)',\n",
       "  'William Demas',\n",
       "  '2009 Premier League Darts',\n",
       "  '1996 San Diego mayoral election',\n",
       "  \"2015 European Diving Championships – Women's 10 metre platform\",\n",
       "  'Mohammadabad (34°02′ N 57°12′ E), Ali Jamal',\n",
       "  'Aditya Babu',\n",
       "  'Asfyj District',\n",
       "  'Murlak',\n",
       "  'Polar Libraries Colloquy',\n",
       "  'Manoel José Dias'],\n",
       " ['Dennis Hampson',\n",
       "  '2018 Italian general election',\n",
       "  'European Public Prosecutor',\n",
       "  '1988 Pakistani general election',\n",
       "  'State of Aleppo',\n",
       "  'Jamaican Maroons in Sierra Leone',\n",
       "  'Chancellor of the Order of Australia',\n",
       "  'Jean-Marie Beaupuy',\n",
       "  'Dave Stocking',\n",
       "  'Galette-saucisse',\n",
       "  'Mezhdurechensky District, Kemerovo Oblast',\n",
       "  '1976 Australian Labor Party leadership spill',\n",
       "  'H1FX',\n",
       "  \"Olympic record progression track cycling – Men's team sprint\",\n",
       "  'List of Azerbaijani submissions for the Academy Award for Best Foreign Language Film',\n",
       "  'Welsh Orienteering Association',\n",
       "  'Saint-François (electoral district)',\n",
       "  '1956 French legislative election in Togo',\n",
       "  'Grammy Award for Best Instrumental Soloist(s) Performance (with orchestra)',\n",
       "  'List of mayors of Whitehorse, Yukon',\n",
       "  '2006 United States federal budget',\n",
       "  'Day of mourning (disambiguation)',\n",
       "  'Dr. Z',\n",
       "  'Golden shower (disambiguation)',\n",
       "  'RVD (disambiguation)',\n",
       "  'KQCT',\n",
       "  \"2015 President's Cup\"],\n",
       " [\"Love's Wilderness\",\n",
       "  'Zofia Merle',\n",
       "  'The Courier of Lyon (1923 film)',\n",
       "  'Slickers vs. Killers',\n",
       "  'Soundtrack of Passion',\n",
       "  'The Isle of Conquest',\n",
       "  'Septembers of Shiraz',\n",
       "  'Gripsholm (film)',\n",
       "  'Tyan',\n",
       "  'Dean Fujioka',\n",
       "  'Damian Taylor',\n",
       "  'KK Agha',\n",
       "  'Solveig Rönn-Christiansson',\n",
       "  '2 Live Jews',\n",
       "  'Trial & Retribution',\n",
       "  'Manulea costalis',\n",
       "  'Big Bang Entertainments',\n",
       "  'Mike Ford (cornerback)',\n",
       "  'My Life as an Animal',\n",
       "  'Nancy Parsons',\n",
       "  'The Bandit Trail',\n",
       "  'Aleko (film)',\n",
       "  'Snigdha Akolkar',\n",
       "  'Cheyabel',\n",
       "  'Resurrection Remix OS',\n",
       "  'Walter del Río',\n",
       "  'Akira Disaro']]"
      ]
     },
     "execution_count": 548,
     "metadata": {},
     "output_type": "execute_result"
    }
   ],
   "source": [
    "clusterings(sample_dict, random.sample(list(sample_dict),30))[:3]"
   ]
  },
  {
   "cell_type": "markdown",
   "metadata": {},
   "source": [
    "One thing you might notice is that we have to increase the sample size of articles\n",
    "before we start to be able to notice significant similarities in the returned clusters.\n",
    "Additonally, you are probably also going to want to increase the number of clusters\n",
    "in such a way as to ensure that you have enough elements in each cluster."
   ]
  },
  {
   "cell_type": "markdown",
   "metadata": {},
   "source": [
    "The interesting thing about clustering is that it is a unsupervised modeling method\n",
    "meaning that we do not have to supply any labels to our data. We can take any gathered set of\n",
    "wikipedia articles and attempt to find similarities. One downside to this method is that\n",
    "the algorithm has polynomial runtime meaning that as we increase the size of our dataset\n",
    "even into the thousands, we will begin to run into significant performance problems, making\n",
    "it difficult to get interesting results, as we want more and more data."
   ]
  },
  {
   "cell_type": "markdown",
   "metadata": {},
   "source": [
    "Linear Classification:"
   ]
  },
  {
   "cell_type": "markdown",
   "metadata": {},
   "source": [
    "The next modeling method that we will be using is called linear classification.\n",
    "Our goal with this model is to produce a series of weight vectors that will be \n",
    "used along with a set of feature vectors to classify a set of documents. The feature vectors\n",
    "are arrays of word occurences for each word in every document in the sample."
   ]
  },
  {
   "cell_type": "markdown",
   "metadata": {},
   "source": [
    "First, let us define a function that will return a pandas dataframe of tf-idf values using a predetermined vocabulary"
   ]
  },
  {
   "cell_type": "markdown",
   "metadata": {},
   "source": [
    "tf-idf is a method of measuring the significance for a term (word) in a set of\n",
    "articles that controls for things such as the overuse of common words such as \"the\"\n",
    "that can occur many times in any or all articles."
   ]
  },
  {
   "cell_type": "code",
   "execution_count": 42,
   "metadata": {},
   "outputs": [],
   "source": [
    "def find_tf_idf(documents, vocabulary):\n",
    "    vect = TfidfVectorizer(\n",
    "        vocabulary=vocabulary,\n",
    "        use_idf=True,\n",
    "    )\n",
    "    X = vect.fit_transform(list(documents.values()))\n",
    "    \n",
    "    df = pd.DataFrame(\n",
    "        X.todense(),\n",
    "        columns=vect.get_feature_names(),\n",
    "        index=list(documents.keys())\n",
    "    )\n",
    "    return df\n",
    "                  "
   ]
  },
  {
   "cell_type": "code",
   "execution_count": 271,
   "metadata": {},
   "outputs": [
    {
     "data": {
      "text/html": [
       "<div>\n",
       "<style scoped>\n",
       "    .dataframe tbody tr th:only-of-type {\n",
       "        vertical-align: middle;\n",
       "    }\n",
       "\n",
       "    .dataframe tbody tr th {\n",
       "        vertical-align: top;\n",
       "    }\n",
       "\n",
       "    .dataframe thead th {\n",
       "        text-align: right;\n",
       "    }\n",
       "</style>\n",
       "<table border=\"1\" class=\"dataframe\">\n",
       "  <thead>\n",
       "    <tr style=\"text-align: right;\">\n",
       "      <th></th>\n",
       "      <th>cow</th>\n",
       "      <th>the</th>\n",
       "      <th>cheese</th>\n",
       "      <th>a</th>\n",
       "    </tr>\n",
       "  </thead>\n",
       "  <tbody>\n",
       "    <tr>\n",
       "      <th>Doc1</th>\n",
       "      <td>0.517856</td>\n",
       "      <td>0.680919</td>\n",
       "      <td>0.517856</td>\n",
       "      <td>0.0</td>\n",
       "    </tr>\n",
       "    <tr>\n",
       "      <th>Doc2</th>\n",
       "      <td>0.000000</td>\n",
       "      <td>0.000000</td>\n",
       "      <td>0.000000</td>\n",
       "      <td>0.0</td>\n",
       "    </tr>\n",
       "    <tr>\n",
       "      <th>Doc3</th>\n",
       "      <td>0.707107</td>\n",
       "      <td>0.000000</td>\n",
       "      <td>0.707107</td>\n",
       "      <td>0.0</td>\n",
       "    </tr>\n",
       "  </tbody>\n",
       "</table>\n",
       "</div>"
      ],
      "text/plain": [
       "           cow       the    cheese    a\n",
       "Doc1  0.517856  0.680919  0.517856  0.0\n",
       "Doc2  0.000000  0.000000  0.000000  0.0\n",
       "Doc3  0.707107  0.000000  0.707107  0.0"
      ]
     },
     "execution_count": 271,
     "metadata": {},
     "output_type": "execute_result"
    }
   ],
   "source": [
    "find_tf_idf(\n",
    "    {\"Doc1\":'The cow eats cheese',\"Doc2\": 'I see a witch',\"Doc3\": 'Cheese is made of cow milk'},\n",
    "    ['cow', 'the', 'cheese', 'a']\n",
    ")"
   ]
  },
  {
   "cell_type": "code",
   "execution_count": 549,
   "metadata": {
    "scrolled": true
   },
   "outputs": [
    {
     "data": {
      "text/html": [
       "<div>\n",
       "<style scoped>\n",
       "    .dataframe tbody tr th:only-of-type {\n",
       "        vertical-align: middle;\n",
       "    }\n",
       "\n",
       "    .dataframe tbody tr th {\n",
       "        vertical-align: top;\n",
       "    }\n",
       "\n",
       "    .dataframe thead th {\n",
       "        text-align: right;\n",
       "    }\n",
       "</style>\n",
       "<table border=\"1\" class=\"dataframe\">\n",
       "  <thead>\n",
       "    <tr style=\"text-align: right;\">\n",
       "      <th></th>\n",
       "      <th>and</th>\n",
       "      <th>the</th>\n",
       "      <th>gameplay</th>\n",
       "    </tr>\n",
       "  </thead>\n",
       "  <tbody>\n",
       "    <tr>\n",
       "      <th>Secret Paths (video game)</th>\n",
       "      <td>0.345080</td>\n",
       "      <td>0.937655</td>\n",
       "      <td>0.041501</td>\n",
       "    </tr>\n",
       "    <tr>\n",
       "      <th>Resident Evil 7: Biohazard</th>\n",
       "      <td>0.371140</td>\n",
       "      <td>0.928430</td>\n",
       "      <td>0.016532</td>\n",
       "    </tr>\n",
       "    <tr>\n",
       "      <th>Project M (video game)</th>\n",
       "      <td>0.445460</td>\n",
       "      <td>0.892025</td>\n",
       "      <td>0.076534</td>\n",
       "    </tr>\n",
       "    <tr>\n",
       "      <th>Torn (video game)</th>\n",
       "      <td>0.249472</td>\n",
       "      <td>0.968382</td>\n",
       "      <td>0.000000</td>\n",
       "    </tr>\n",
       "    <tr>\n",
       "      <th>List of most expensive video game acquisitions</th>\n",
       "      <td>0.000000</td>\n",
       "      <td>1.000000</td>\n",
       "      <td>0.000000</td>\n",
       "    </tr>\n",
       "    <tr>\n",
       "      <th>List of esports games</th>\n",
       "      <td>0.346618</td>\n",
       "      <td>0.938006</td>\n",
       "      <td>0.000000</td>\n",
       "    </tr>\n",
       "    <tr>\n",
       "      <th>AstroFire</th>\n",
       "      <td>0.000000</td>\n",
       "      <td>0.000000</td>\n",
       "      <td>0.000000</td>\n",
       "    </tr>\n",
       "    <tr>\n",
       "      <th>Warm Up!</th>\n",
       "      <td>0.678350</td>\n",
       "      <td>0.658293</td>\n",
       "      <td>0.326330</td>\n",
       "    </tr>\n",
       "    <tr>\n",
       "      <th>Final Fantasy VIII</th>\n",
       "      <td>0.389628</td>\n",
       "      <td>0.920834</td>\n",
       "      <td>0.015938</td>\n",
       "    </tr>\n",
       "    <tr>\n",
       "      <th>Cardinal of the Kremlin (video game)</th>\n",
       "      <td>0.293301</td>\n",
       "      <td>0.948762</td>\n",
       "      <td>0.117580</td>\n",
       "    </tr>\n",
       "    <tr>\n",
       "      <th>Stellaris (video game)</th>\n",
       "      <td>0.564016</td>\n",
       "      <td>0.821010</td>\n",
       "      <td>0.088477</td>\n",
       "    </tr>\n",
       "    <tr>\n",
       "      <th>Diablo III: Rise of the Necromancer</th>\n",
       "      <td>0.312020</td>\n",
       "      <td>0.948757</td>\n",
       "      <td>0.050034</td>\n",
       "    </tr>\n",
       "  </tbody>\n",
       "</table>\n",
       "</div>"
      ],
      "text/plain": [
       "                                                     and       the  gameplay\n",
       "Secret Paths (video game)                       0.345080  0.937655  0.041501\n",
       "Resident Evil 7: Biohazard                      0.371140  0.928430  0.016532\n",
       "Project M (video game)                          0.445460  0.892025  0.076534\n",
       "Torn (video game)                               0.249472  0.968382  0.000000\n",
       "List of most expensive video game acquisitions  0.000000  1.000000  0.000000\n",
       "List of esports games                           0.346618  0.938006  0.000000\n",
       "AstroFire                                       0.000000  0.000000  0.000000\n",
       "Warm Up!                                        0.678350  0.658293  0.326330\n",
       "Final Fantasy VIII                              0.389628  0.920834  0.015938\n",
       "Cardinal of the Kremlin (video game)            0.293301  0.948762  0.117580\n",
       "Stellaris (video game)                          0.564016  0.821010  0.088477\n",
       "Diablo III: Rise of the Necromancer             0.312020  0.948757  0.050034"
      ]
     },
     "execution_count": 549,
     "metadata": {},
     "output_type": "execute_result"
    }
   ],
   "source": [
    "find_tf_idf(game_articles,['and', 'the', 'gameplay']).iloc[:12]"
   ]
  },
  {
   "cell_type": "markdown",
   "metadata": {},
   "source": [
    "Now lets create samples from our category data sets for training and for validation. We will take 3/4th of the values for training and 1/4th of the values for validation from each category"
   ]
  },
  {
   "cell_type": "markdown",
   "metadata": {},
   "source": [
    "The reason that it is important to split our data this way is that we have to make sure\n",
    "that the way the we test our model is not subject to bias due to reusing articles for both\n",
    "training and testing the model."
   ]
  },
  {
   "cell_type": "code",
   "execution_count": 98,
   "metadata": {},
   "outputs": [],
   "source": [
    "def train_test_split(documents):\n",
    "    keys = copy.deepcopy(list(documents.keys()))\n",
    "    random.shuffle(keys)\n",
    "    \n",
    "    result1 = {}\n",
    "    for i in range(int(3*len(keys)/4)):\n",
    "        result1[keys[i]] = documents[keys[i]]\n",
    "        \n",
    "    result2 = {}\n",
    "    for i in range(int(3*len(keys)/4), len(keys)):\n",
    "        result2[keys[i]] = documents[keys[i]]\n",
    "    \n",
    "    return (result1, result2)"
   ]
  },
  {
   "cell_type": "code",
   "execution_count": 99,
   "metadata": {},
   "outputs": [
    {
     "data": {
      "text/plain": [
       "({'c': 'ccc', 'a': 'aaa', 'd': 'ddd'}, {'b': 'bbb'})"
      ]
     },
     "execution_count": 99,
     "metadata": {},
     "output_type": "execute_result"
    }
   ],
   "source": [
    "train_test_split({'a': 'aaa', 'b': \"bbb\", 'c':'ccc', 'd':'ddd'})"
   ]
  },
  {
   "cell_type": "markdown",
   "metadata": {},
   "source": [
    "Now we will store the data for each category in a tuple of the form (training, validation)"
   ]
  },
  {
   "cell_type": "code",
   "execution_count": 100,
   "metadata": {},
   "outputs": [],
   "source": [
    "cs_data = train_test_split(cs_articles)"
   ]
  },
  {
   "cell_type": "code",
   "execution_count": 104,
   "metadata": {},
   "outputs": [],
   "source": [
    "game_data = train_test_split(game_articles)"
   ]
  },
  {
   "cell_type": "code",
   "execution_count": 105,
   "metadata": {},
   "outputs": [],
   "source": [
    "baseball_data = train_test_split(baseball_articles)"
   ]
  },
  {
   "cell_type": "markdown",
   "metadata": {},
   "source": [
    "This function takes a set of documents that one wishes to classify and a list of categories\n",
    "(themselves lists of documents) and produces a list of len(categories) weight vectors that are\n",
    "used to classify the document in the linear_classify function father down. The categories variable is of the form\n",
    "{category_label:{doc1name:text, doc2name:text}, ...}.\n",
    "\n",
    "The bag parameter is just the bag of words in pandas dataframe form that we get from calling our\n",
    "bag_of_words function with a dictionary of article titles mapped to article text.\n",
    "\n",
    "This function will return a dict of the form {category1:weight vector, category2:weight vector, ...}"
   ]
  },
  {
   "cell_type": "code",
   "execution_count": 421,
   "metadata": {},
   "outputs": [],
   "source": [
    "def produce_weights(bag, categories, weight_scalars={}):\n",
    "    weight_vectors = {}\n",
    "    for category in categories:\n",
    "        tfidf = find_tf_idf(categories[category], list(bag.columns.values))\n",
    "        weight = tfidf.sum()\n",
    "        \n",
    "        #now apply the modified weights\n",
    "        if category in weight_scalars:\n",
    "            for term,scalar in weight_scalars[category].items():\n",
    "                if term in weight:\n",
    "                    weight[term] = weight[term]*scalar\n",
    "        \n",
    "        weight_vectors[category] = weight\n",
    "    \n",
    "    return weight_vectors"
   ]
  },
  {
   "cell_type": "markdown",
   "metadata": {},
   "source": [
    "Now we have an array of n weights, where n is the number of entries into the categories dictionary that we passed in.\n",
    "These category values are used as training data that is intended to work with the documents that we are attempting\n",
    "to classify. After a call to the produce_weights function we now have a list of n weight vectors that represent the\n",
    "sum of tfidf values for all of the words in documents, counted for each of the categories we are training with."
   ]
  },
  {
   "cell_type": "markdown",
   "metadata": {},
   "source": [
    "Now the next step is to plug our bag of words (with each row representing the feature vector of each documents)\n",
    "into our linear classifier function"
   ]
  },
  {
   "cell_type": "markdown",
   "metadata": {},
   "source": [
    "This function will take each of the weight vectors and for each feature vector, x, take the dot product between x and the weight vectors and return the category label of the weight vector that makes the highest score."
   ]
  },
  {
   "cell_type": "code",
   "execution_count": 255,
   "metadata": {},
   "outputs": [],
   "source": [
    "def linear_classifier(bag, weights, terms_to_drop=[]):\n",
    "    results = {}\n",
    "    \n",
    "    #find the most common terms among all weights and drop them\n",
    "    \n",
    "    \n",
    "    #drop unnecesary terms\n",
    "    for term in terms_to_drop:\n",
    "        if term in bag:\n",
    "            bag = bag.drop(term,axis=1)\n",
    "            \n",
    "            for label,weight in weights.items():\n",
    "                weights[label] = weight.drop(term)\n",
    "    \n",
    "    for index,row in bag.iterrows():\n",
    "        max_label = ''\n",
    "        max_value = 0\n",
    "        \n",
    "        for label,weight_vector in weights.items():\n",
    "            dot = np.dot(row,weight_vector)\n",
    "            if dot >= max_value:\n",
    "                max_label = label\n",
    "                max_value = dot\n",
    "        \n",
    "        results[index] = max_label\n",
    "        \n",
    "    return results"
   ]
  },
  {
   "cell_type": "markdown",
   "metadata": {},
   "source": [
    "Lets do a simple test of the accuracy of our classifier function. For this basic\n",
    "test we'll just use game data for our unknown documents and we will use\n",
    "a variety of categories for training data"
   ]
  },
  {
   "cell_type": "code",
   "execution_count": 256,
   "metadata": {},
   "outputs": [],
   "source": [
    "game_test_weights = produce_weights(bag_of_words(game_data[1]), {'cs':cs_data[0], 'game':game_data[0], 'baseball':baseball_data[0]})"
   ]
  },
  {
   "cell_type": "code",
   "execution_count": 257,
   "metadata": {},
   "outputs": [],
   "source": [
    "game_test_classifications = linear_classifier(bag_of_words(game_data[1]), game_test_weights)"
   ]
  },
  {
   "cell_type": "code",
   "execution_count": 555,
   "metadata": {},
   "outputs": [],
   "source": [
    "def picture_single_result(results):\n",
    "    num_game = 0\n",
    "    num_baseball = 0\n",
    "    num_cs = 0\n",
    "    \n",
    "    for title,label in results.items():\n",
    "        if label == \"game\":\n",
    "            num_game += 1\n",
    "        elif label == \"cs\":\n",
    "            num_cs += 1\n",
    "        elif label == \"baseball\":\n",
    "            num_baseball += 1\n",
    "            \n",
    "    \n",
    "    #create graphs\n",
    "    objects = ('Video Games', 'Computer Science', 'Baseball')\n",
    "    y_pos = np.arange(len(objects))\n",
    "    performance = [num_game, num_cs, num_baseball]\n",
    "\n",
    "    plt.bar(y_pos, performance, align='center', alpha=0.5)\n",
    "    plt.xticks(y_pos, objects)\n",
    "    plt.ylabel('Number')\n",
    "    plt.title('Number of classifications per Category')"
   ]
  },
  {
   "cell_type": "code",
   "execution_count": 556,
   "metadata": {},
   "outputs": [
    {
     "data": {
      "image/png": "[encoded data removed]",
      "text/plain": [
       "<Figure size 432x288 with 1 Axes>"
      ]
     },
     "metadata": {
      "needs_background": "light"
     },
     "output_type": "display_data"
    }
   ],
   "source": [
    "picture_single_result(game_test_classifications)"
   ]
  },
  {
   "cell_type": "markdown",
   "metadata": {},
   "source": [
    "As you can see, most of the articles are classified as game as we would expect.\n",
    "Now lets do the same thing but mix in a few other categories as well and just eyeball\n",
    "the results for now."
   ]
  },
  {
   "cell_type": "code",
   "execution_count": 490,
   "metadata": {},
   "outputs": [],
   "source": [
    "mixed_bag = bag_of_words(dict(baseball_data[1], **dict(game_data[1], **cs_data[1])))"
   ]
  },
  {
   "cell_type": "code",
   "execution_count": 491,
   "metadata": {},
   "outputs": [],
   "source": [
    "mixed_test_weights = produce_weights(\n",
    "    mixed_bag,\n",
    "    {'cs':cs_data[0], 'game':game_data[0], 'baseball':baseball_data[0]}\n",
    ")"
   ]
  },
  {
   "cell_type": "code",
   "execution_count": 492,
   "metadata": {},
   "outputs": [],
   "source": [
    "mixed_test_classifications = linear_classifier(mixed_bag, mixed_test_weights)"
   ]
  },
  {
   "cell_type": "markdown",
   "metadata": {},
   "source": [
    "We will now provide a function to observe the results"
   ]
  },
  {
   "cell_type": "code",
   "execution_count": 552,
   "metadata": {},
   "outputs": [],
   "source": [
    "def results_stats(results, data):\n",
    "    num_game = 0\n",
    "    num_baseball = 0\n",
    "    num_cs = 0\n",
    "    \n",
    "    game_accurately_classified = 0\n",
    "    cs_accurately_classified = 0\n",
    "    baseball_accurately_classified = 0\n",
    "    \n",
    "    for title,label in results.items():\n",
    "        if label == \"game\":\n",
    "            num_game += 1\n",
    "        elif label == \"cs\":\n",
    "            num_cs += 1\n",
    "        elif label == \"baseball\":\n",
    "            num_baseball += 1\n",
    "            \n",
    "    for title,text in data[0][1].items():\n",
    "        if results[title] == \"cs\":\n",
    "                cs_accurately_classified += 1\n",
    "                    \n",
    "    for title,text in data[1][1].items():\n",
    "        if results[title] == \"game\":\n",
    "                game_accurately_classified += 1\n",
    "                    \n",
    "    for title,text in data[2][1].items():\n",
    "        if results[title] == \"baseball\":\n",
    "                baseball_accurately_classified += 1\n",
    "                    \n",
    "    stringout = \"There were \" +  str(len(results.keys())) + \" classifications\" + \"\\n\" + \\\n",
    "    \"game classifications: \" + str(num_game) + \"\\n\" + \\\n",
    "    \"cs classifications: \" + str(num_cs) + \"\\n\" + \\\n",
    "    \"baseball classifications: \" + str(num_baseball) + \"\\n\\n\" + \\\n",
    "    \"percent game articles correctly classified: \" + str(game_accurately_classified/len(data[0][1])) + \"\\n\" + \\\n",
    "    \"percent cs articles correctly classified: \" + str(cs_accurately_classified/len(data[1][1])) + \"\\n\" + \\\n",
    "    \"percent baseball articles correctly classified: \" + str(baseball_accurately_classified/len(data[2][1])) + \"\\n\"\n",
    "    \n",
    "    #create graphs\n",
    "    objects = ('Video Games', 'Computer Science', 'Baseball')\n",
    "    y_pos = np.arange(len(objects))\n",
    "    performance = [game_accurately_classified, cs_accurately_classified, baseball_accurately_classified]\n",
    "\n",
    "    plt.bar(y_pos, performance, align='center', alpha=0.5)\n",
    "    plt.xticks(y_pos, objects)\n",
    "    plt.ylabel('Percentage')\n",
    "    plt.title('Percentage articles Correctly Classified')\n",
    "    \n",
    "    return stringout"
   ]
  },
  {
   "cell_type": "markdown",
   "metadata": {},
   "source": [
    "Interestingly enough, it seems that there is a bias towards classifying articles\n",
    "as \"game\" using our bare tf-idf method. Lets see the stats on this classification."
   ]
  },
  {
   "cell_type": "code",
   "execution_count": 495,
   "metadata": {},
   "outputs": [
    {
     "data": {
      "text/plain": [
       "'There were 294 classifications\\ngame classifications: 278\\ncs classifications: 0\\nbaseball classifications: 16\\n\\npercent game articles correctly classified: 1.0101010101010102\\npercent cs articles correctly classified: 0.0\\npercent baseball articles correctly classified: 0.14736842105263157\\n'"
      ]
     },
     "execution_count": 495,
     "metadata": {},
     "output_type": "execute_result"
    },
    {
     "data": {
      "image/png": "[encoded data removed]",
      "text/plain": [
       "<Figure size 432x288 with 1 Axes>"
      ]
     },
     "metadata": {
      "needs_background": "light"
     },
     "output_type": "display_data"
    }
   ],
   "source": [
    "results_stats(mixed_test_classifications ,[cs_data,game_data,baseball_data])"
   ]
  },
  {
   "cell_type": "markdown",
   "metadata": {},
   "source": [
    "Clearly there is a great bias being given to the game label using this method while cs classifications are excedingly rare\n",
    "(or none)"
   ]
  },
  {
   "cell_type": "markdown",
   "metadata": {},
   "source": [
    "Let's try  making a small change here. Now we are going to tell our linear\n",
    "classifier to drop some terms from the calculation. In particular, we are going\n",
    "to choose common and unhelpful terms such as \"the\" and \"and\"."
   ]
  },
  {
   "cell_type": "code",
   "execution_count": 496,
   "metadata": {},
   "outputs": [],
   "source": [
    "mixed_test_weights_2 = produce_weights(\n",
    "    mixed_bag,\n",
    "    {'cs':cs_data[0], 'game':game_data[0], 'baseball':baseball_data[0]}\n",
    ")"
   ]
  },
  {
   "cell_type": "code",
   "execution_count": 497,
   "metadata": {},
   "outputs": [],
   "source": [
    "mixed_test_classifications_2 = linear_classifier(\n",
    "    mixed_bag, mixed_test_weights_2, terms_to_drop=['the','and','of','a']\n",
    ")"
   ]
  },
  {
   "cell_type": "code",
   "execution_count": 499,
   "metadata": {},
   "outputs": [
    {
     "data": {
      "text/plain": [
       "'There were 294 classifications\\ngame classifications: 189\\ncs classifications: 17\\nbaseball classifications: 88\\n\\npercent game articles correctly classified: 1.0101010101010102\\npercent cs articles correctly classified: 0.17\\npercent baseball articles correctly classified: 0.8736842105263158\\n'"
      ]
     },
     "execution_count": 499,
     "metadata": {},
     "output_type": "execute_result"
    },
    {
     "data": {
      "image/png": "[encoded data removed]",
      "text/plain": [
       "<Figure size 432x288 with 1 Axes>"
      ]
     },
     "metadata": {
      "needs_background": "light"
     },
     "output_type": "display_data"
    }
   ],
   "source": [
    "results_stats(mixed_test_classifications_2 ,[cs_data,game_data,baseball_data])"
   ]
  },
  {
   "cell_type": "markdown",
   "metadata": {},
   "source": [
    "Awesome, now we are already getting much more accuracy when it comes to baseball,\n",
    "and a bit more when it comes to computer science articles. But let's\n",
    "try one more thing."
   ]
  },
  {
   "cell_type": "markdown",
   "metadata": {},
   "source": [
    "We are going to manipulate the weighting process to be biased towards certain\n",
    "terms in certain categories. For example we can take the term \"deathmatch\" and\n",
    "associate it with video games or we can take \"string\" and associate \n",
    "it with computer science."
   ]
  },
  {
   "cell_type": "code",
   "execution_count": 500,
   "metadata": {},
   "outputs": [
    {
     "data": {
      "text/plain": [
       "1.0486484851723943"
      ]
     },
     "execution_count": 500,
     "metadata": {},
     "output_type": "execute_result"
    }
   ],
   "source": [
    "mixed_test_weights_2[\"cs\"][\"string\"]"
   ]
  },
  {
   "cell_type": "code",
   "execution_count": 501,
   "metadata": {},
   "outputs": [],
   "source": [
    "mixed_test_weights_3 = produce_weights(\n",
    "    mixed_bag,\n",
    "    {'cs':cs_data[0], 'game':game_data[0], 'baseball':baseball_data[0]},\n",
    "    weight_scalars={\n",
    "        \"cs\":{\n",
    "            \"string\":20, \"data\":15, \"orthogonality\":15, 'programming':15, \"vector\":30,\n",
    "            \"professor\":15, \"science\":25, \"bits\":9\n",
    "        },\n",
    "    }\n",
    ")"
   ]
  },
  {
   "cell_type": "code",
   "execution_count": 502,
   "metadata": {},
   "outputs": [
    {
     "data": {
      "text/plain": [
       "20.972969703447887"
      ]
     },
     "execution_count": 502,
     "metadata": {},
     "output_type": "execute_result"
    }
   ],
   "source": [
    "mixed_test_weights_3[\"cs\"][\"string\"]"
   ]
  },
  {
   "cell_type": "code",
   "execution_count": 503,
   "metadata": {},
   "outputs": [],
   "source": [
    "mixed_test_classifications_3 = linear_classifier(\n",
    "    mixed_bag, mixed_test_weights_3, terms_to_drop=['the','and','of','a']\n",
    ")"
   ]
  },
  {
   "cell_type": "code",
   "execution_count": 504,
   "metadata": {},
   "outputs": [
    {
     "data": {
      "text/plain": [
       "'There were 294 classifications\\ngame classifications: 154\\ncs classifications: 53\\nbaseball classifications: 87\\n\\npercent game articles correctly classified: 1.0101010101010102\\npercent cs articles correctly classified: 0.53\\npercent baseball articles correctly classified: 0.8736842105263158\\n'"
      ]
     },
     "execution_count": 504,
     "metadata": {},
     "output_type": "execute_result"
    },
    {
     "data": {
      "image/png": "[encoded data removed]",
      "text/plain": [
       "<Figure size 432x288 with 1 Axes>"
      ]
     },
     "metadata": {
      "needs_background": "light"
     },
     "output_type": "display_data"
    }
   ],
   "source": [
    "results_stats(mixed_test_classifications_3 ,[cs_data,game_data,baseball_data])"
   ]
  },
  {
   "cell_type": "markdown",
   "metadata": {},
   "source": [
    "As you can see changing the weights of certain key terms can massively change the accuracy of the \n",
    "classification system"
   ]
  },
  {
   "cell_type": "markdown",
   "metadata": {},
   "source": [
    "To avoid overfitting let's see how our current model works with a different set of articles"
   ]
  },
  {
   "cell_type": "code",
   "execution_count": 466,
   "metadata": {},
   "outputs": [],
   "source": [
    "game_articles_2 = sample_articles(game_titles,400)"
   ]
  },
  {
   "cell_type": "code",
   "execution_count": 467,
   "metadata": {},
   "outputs": [],
   "source": [
    "cs_articles_2 = sample_articles(cs_titles,400)"
   ]
  },
  {
   "cell_type": "code",
   "execution_count": 468,
   "metadata": {},
   "outputs": [],
   "source": [
    "baseball_articles_2 = sample_articles(baseball_titles,400)"
   ]
  },
  {
   "cell_type": "code",
   "execution_count": 476,
   "metadata": {},
   "outputs": [],
   "source": [
    "game_data_2 = train_test_split(game_articles_2)"
   ]
  },
  {
   "cell_type": "code",
   "execution_count": 477,
   "metadata": {},
   "outputs": [],
   "source": [
    "cs_data_2 = train_test_split(cs_articles_2)"
   ]
  },
  {
   "cell_type": "code",
   "execution_count": 478,
   "metadata": {},
   "outputs": [],
   "source": [
    "baseball_data_2 = train_test_split(baseball_articles_2)"
   ]
  },
  {
   "cell_type": "code",
   "execution_count": 505,
   "metadata": {},
   "outputs": [],
   "source": [
    "mixed_bag_2 = bag_of_words(dict(game_data_2[1], **cs_data_2[1], **baseball_data_2[1]))"
   ]
  },
  {
   "cell_type": "code",
   "execution_count": 506,
   "metadata": {},
   "outputs": [],
   "source": [
    "mixed_test_weights_4 = produce_weights(\n",
    "    mixed_bag_2,\n",
    "    {'cs':cs_data_2[0], 'game':game_data_2[0], 'baseball':baseball_data_2[0]},\n",
    "    weight_scalars={\n",
    "        \"cs\":{\n",
    "            \"string\":20, \"data\":15, \"orthogonality\":15, 'programming':15, \"vector\":30,\n",
    "            \"professor\":15, \"science\":25, \"bits\":9\n",
    "        },\n",
    "    }\n",
    ")"
   ]
  },
  {
   "cell_type": "code",
   "execution_count": 507,
   "metadata": {},
   "outputs": [],
   "source": [
    "mixed_test_classifications_4 = linear_classifier(\n",
    "    mixed_bag_2, mixed_test_weights_4, terms_to_drop=['the','and','of','a']\n",
    ")"
   ]
  },
  {
   "cell_type": "code",
   "execution_count": 508,
   "metadata": {},
   "outputs": [
    {
     "data": {
      "text/plain": [
       "'There were 288 classifications\\ngame classifications: 164\\ncs classifications: 53\\nbaseball classifications: 71\\n\\npercent game articles correctly classified: 1.0\\npercent cs articles correctly classified: 0.5353535353535354\\npercent baseball articles correctly classified: 0.7555555555555555\\n'"
      ]
     },
     "execution_count": 508,
     "metadata": {},
     "output_type": "execute_result"
    },
    {
     "data": {
      "image/png": "[encoded data removed]",
      "text/plain": [
       "<Figure size 432x288 with 1 Axes>"
      ]
     },
     "metadata": {
      "needs_background": "light"
     },
     "output_type": "display_data"
    }
   ],
   "source": [
    "results_stats(mixed_test_classifications_4 ,[cs_data_2,game_data_2,baseball_data_2])"
   ]
  },
  {
   "cell_type": "markdown",
   "metadata": {},
   "source": [
    "On a different data set you can see that it performs very similarly, good to see!"
   ]
  },
  {
   "cell_type": "markdown",
   "metadata": {},
   "source": [
    "Finally, lets compare our linear classification model to the clustering model and see\n",
    "what the results look like. We will be partitioning the data into three clusters, \n",
    "starting with a member of each category"
   ]
  },
  {
   "cell_type": "code",
   "execution_count": 519,
   "metadata": {},
   "outputs": [],
   "source": [
    "game_representative = random.choice(list(game_data[1].keys()))"
   ]
  },
  {
   "cell_type": "code",
   "execution_count": 520,
   "metadata": {},
   "outputs": [],
   "source": [
    "cs_representative = random.choice(list(cs_data[1].keys()))"
   ]
  },
  {
   "cell_type": "code",
   "execution_count": 521,
   "metadata": {},
   "outputs": [],
   "source": [
    "baseball_representative = random.choice(list(baseball_data[1].keys()))"
   ]
  },
  {
   "cell_type": "code",
   "execution_count": 522,
   "metadata": {},
   "outputs": [],
   "source": [
    "clusters = clusterings(\n",
    "    dict(cs_data[1],**game_data[1], **baseball_data[1]),\n",
    "    [game_representative, cs_representative, baseball_representative]\n",
    ")"
   ]
  },
  {
   "cell_type": "code",
   "execution_count": 538,
   "metadata": {},
   "outputs": [],
   "source": [
    "def analyze_cluster(cluster):\n",
    "    num_games = 0\n",
    "    num_cs = 0\n",
    "    num_baseball = 0\n",
    "\n",
    "    for title in cluster:\n",
    "        if title in game_data[1]:\n",
    "            num_games += 1\n",
    "        elif title in cs_data[1]:\n",
    "            num_cs += 1\n",
    "        elif title in baseball_data[1]:\n",
    "            num_baseball += 1\n",
    "           \n",
    "    #create graph\n",
    "    objects = ('Video Games', 'Computer Science', 'Baseball')\n",
    "    y_pos = np.arange(len(objects))\n",
    "    performance = [num_games, num_cs, num_baseball]\n",
    "\n",
    "    plt.bar(y_pos, performance, align='center', alpha=0.5)\n",
    "    plt.xticks(y_pos, objects)\n",
    "    plt.ylabel('Number of Articles')\n",
    "    plt.title('Number of items in cluster')\n",
    "    "
   ]
  },
  {
   "cell_type": "code",
   "execution_count": 539,
   "metadata": {},
   "outputs": [
    {
     "data": {
      "image/png": "[encoded data removed]",
      "text/plain": [
       "<Figure size 432x288 with 1 Axes>"
      ]
     },
     "metadata": {
      "needs_background": "light"
     },
     "output_type": "display_data"
    }
   ],
   "source": [
    "analyze_cluster(clusters[0])"
   ]
  },
  {
   "cell_type": "code",
   "execution_count": 540,
   "metadata": {},
   "outputs": [
    {
     "data": {
      "image/png": "[encoded data removed]",
      "text/plain": [
       "<Figure size 432x288 with 1 Axes>"
      ]
     },
     "metadata": {
      "needs_background": "light"
     },
     "output_type": "display_data"
    }
   ],
   "source": [
    "analyze_cluster(clusters[1])"
   ]
  },
  {
   "cell_type": "code",
   "execution_count": 541,
   "metadata": {},
   "outputs": [
    {
     "data": {
      "image/png": "[encoded data removed]",
      "text/plain": [
       "<Figure size 432x288 with 1 Axes>"
      ]
     },
     "metadata": {
      "needs_background": "light"
     },
     "output_type": "display_data"
    }
   ],
   "source": [
    "analyze_cluster(clusters[2])"
   ]
  }
 ],
 "metadata": {
  "kernelspec": {
   "display_name": "Python 3",
   "language": "python",
   "name": "python3"
  },
  "language_info": {
   "codemirror_mode": {
    "name": "ipython",
    "version": 3
   },
   "file_extension": ".py",
   "mimetype": "text/x-python",
   "name": "python",
   "nbconvert_exporter": "python",
   "pygments_lexer": "ipython3",
   "version": "3.6.8"
  }
 },
 "nbformat": 4,
 "nbformat_minor": 2
}
